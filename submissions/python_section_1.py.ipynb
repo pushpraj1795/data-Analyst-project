{
 "cells": [
  {
   "cell_type": "markdown",
   "id": "c8063b47",
   "metadata": {},
   "source": [
    "# Python Section 1"
   ]
  },
  {
   "cell_type": "code",
   "execution_count": 20,
   "id": "94cd17b4",
   "metadata": {},
   "outputs": [
    {
     "name": "stdout",
     "output_type": "stream",
     "text": [
      "[2, 1, 4, 3, 5]\n"
     ]
    }
   ],
   "source": [
    "def reverse_in_groups(lst,n):\n",
    "    result=[]\n",
    "    for i in range (0,len(lst),n):\n",
    "        current_group = []\n",
    "        for j in range(i,min(i+n,len(lst))):\n",
    "            current_group.insert(0,lst[j])\n",
    "        result.extend(current_group)\n",
    "    return result\n",
    "lst=[1,2,3,4,5]\n",
    "n=2\n",
    "print(reverse_in_groups(lst,n))"
   ]
  },
  {
   "cell_type": "code",
   "execution_count": 6,
   "id": "d8ac17e3",
   "metadata": {},
   "outputs": [
    {
     "name": "stdout",
     "output_type": "stream",
     "text": [
      "{3: ['one', 'two'], 4: ['four', 'five'], 5: ['three']}\n"
     ]
    }
   ],
   "source": [
    "def group_strings_by_length(strings):\n",
    "    result={}\n",
    "    for i in strings:\n",
    "        length=len(i)\n",
    "        if length not in result:\n",
    "            result[length]=[]\n",
    "        result[length].append(i)\n",
    "        sorted_result=dict(sorted(result.items()))\n",
    "    return sorted_result\n",
    "strings=[\"one\",\"two\",\"three\",\"four\",\"five\"]     \n",
    "print(group_strings_by_length(strings))"
   ]
  },
  {
   "cell_type": "code",
   "execution_count": 7,
   "id": "55fcd911",
   "metadata": {},
   "outputs": [
    {
     "name": "stdout",
     "output_type": "stream",
     "text": [
      "{'road.name': 'Highway 1', 'road.length': 350, 'road.sections[0].id': 1, 'road.sections[0].condition.pavement': 'good', 'road.sections[0].condition.traffic': 'moderate'}\n"
     ]
    }
   ],
   "source": [
    "def flatten_dict(nested_dict, parent_key='', sep='.'):\n",
    "  \n",
    "    flat_dict = {}\n",
    "    \n",
    "    \n",
    "    for key, value in nested_dict.items():\n",
    "\n",
    "        new_key = f\"{parent_key}{sep}{key}\" if parent_key else key\n",
    "        \n",
    "        \n",
    "        if isinstance(value, dict):\n",
    "            flat_dict.update(flatten_dict(value, new_key, sep=sep))\n",
    "        \n",
    "        \n",
    "        elif isinstance(value, list):\n",
    "            for i, item in enumerate(value):\n",
    "              \n",
    "                flat_dict.update(flatten_dict(item, f\"{new_key}[{i}]\", sep=sep))\n",
    "        \n",
    "       \n",
    "        else:\n",
    "            flat_dict[new_key] = value\n",
    "    \n",
    "    return flat_dict\n",
    "\n",
    "\n",
    "nested_dict = {\n",
    "    \"road\": {\n",
    "        \"name\": \"Highway 1\",\n",
    "        \"length\": 350,\n",
    "        \"sections\": [\n",
    "            {\n",
    "                \"id\": 1,\n",
    "                \"condition\": {\n",
    "                    \"pavement\": \"good\",\n",
    "                    \"traffic\": \"moderate\"\n",
    "                }\n",
    "            }\n",
    "        ]\n",
    "    }\n",
    "}\n",
    "\n",
    "\n",
    "flat_dict = flatten_dict(nested_dict)\n",
    "print(flat_dict)\n"
   ]
  },
  {
   "cell_type": "code",
   "execution_count": 2,
   "id": "944c0af5",
   "metadata": {},
   "outputs": [
    {
     "name": "stdout",
     "output_type": "stream",
     "text": [
      "[[1, 1, 2], [1, 2, 1], [2, 1, 1]]\n"
     ]
    }
   ],
   "source": [
    "def unique_permutations(nums):\n",
    "    def backtrack(path, used):\n",
    "        if len(path) == len(nums):\n",
    "            result.append(path[:])\n",
    "            return\n",
    "        for i in range(len(nums)):\n",
    "           \n",
    "            if used[i] or (i > 0 and nums[i] == nums[i - 1] and not used[i - 1]):\n",
    "                continue\n",
    "            used[i] = True\n",
    "            path.append(nums[i])\n",
    "            backtrack(path, used)\n",
    "            path.pop()\n",
    "            used[i] = False\n",
    "\n",
    "    nums.sort()  \n",
    "    result = []\n",
    "    used = [False] * len(nums)\n",
    "    backtrack([], used)\n",
    "    return result\n",
    "input_list = [1, 1, 2]\n",
    "output = unique_permutations(input_list)\n",
    "print(output)"
   ]
  },
  {
   "cell_type": "code",
   "execution_count": 3,
   "id": "82c626ac",
   "metadata": {},
   "outputs": [
    {
     "name": "stdout",
     "output_type": "stream",
     "text": [
      "[[1, 2, 1], [2, 1, 1], [1, 1, 2]]\n"
     ]
    }
   ],
   "source": [
    "from itertools import permutations\n",
    "\n",
    "def unique_permutations(nums):\n",
    "    return list(map(list, set(permutations(nums))))\n",
    "input_list = [1, 1, 2]\n",
    "output = unique_permutations(input_list)\n",
    "print(output)\n"
   ]
  },
  {
   "cell_type": "code",
   "execution_count": 4,
   "id": "ac1e9c03",
   "metadata": {},
   "outputs": [
    {
     "name": "stdout",
     "output_type": "stream",
     "text": [
      "['23-08-1994', '08/23/1994', '1994.08.23']\n"
     ]
    }
   ],
   "source": [
    "import re\n",
    "\n",
    "def find_all_dates(text):\n",
    "    \n",
    "    date_pattern = r'\\b\\d{2}-\\d{2}-\\d{4}\\b|\\b\\d{2}/\\d{2}/\\d{4}\\b|\\b\\d{4}\\.\\d{2}\\.\\d{2}\\b'\n",
    "    \n",
    "    \n",
    "    dates = re.findall(date_pattern, text)\n",
    "    \n",
    "    return dates\n",
    "text = \"I was born on 23-08-1994, my friend on 08/23/1994, and another one on 1994.08.23.\"\n",
    "output = find_all_dates(text)\n",
    "print(output)\n"
   ]
  },
  {
   "cell_type": "code",
   "execution_count": 6,
   "id": "58c5db88",
   "metadata": {},
   "outputs": [
    {
     "name": "stdout",
     "output_type": "stream",
     "text": [
      "   latitude  longitude       distance\n",
      "0    38.500   -120.200       0.000000\n",
      "1    40.700   -120.950  252924.435162\n",
      "2    43.252   -126.453  535981.434984\n"
     ]
    }
   ],
   "source": [
    "import pandas as pd\n",
    "import polyline\n",
    "import math\n",
    "\n",
    "\n",
    "def haversine(lat1, lon1, lat2, lon2):\n",
    "    R = 6371000  \n",
    "    phi1 = math.radians(lat1)\n",
    "    phi2 = math.radians(lat2)\n",
    "    delta_phi = math.radians(lat2 - lat1)\n",
    "    delta_lambda = math.radians(lon2 - lon1)\n",
    "    \n",
    "    a = math.sin(delta_phi / 2)**2 + math.cos(phi1) * math.cos(phi2) * math.sin(delta_lambda / 2)**2\n",
    "    c = 2 * math.atan2(math.sqrt(a), math.sqrt(1 - a))\n",
    "    \n",
    "    return R * c  \n",
    "\n",
    "def decode_polyline_to_dataframe(polyline_str):\n",
    "   \n",
    "    coordinates = polyline.decode(polyline_str)\n",
    "    \n",
    "    \n",
    "    df = pd.DataFrame(coordinates, columns=['latitude', 'longitude'])\n",
    "    \n",
    "  \n",
    "    df['distance'] = 0.0\n",
    "    \n",
    "    \n",
    "    for i in range(1, len(df)):\n",
    "        lat1, lon1 = df.loc[i - 1, 'latitude'], df.loc[i - 1, 'longitude']\n",
    "        lat2, lon2 = df.loc[i, 'latitude'], df.loc[i, 'longitude']\n",
    "        df.loc[i, 'distance'] = haversine(lat1, lon1, lat2, lon2)\n",
    "    \n",
    "    return df\n",
    "polyline_str = \"_p~iF~ps|U_ulLnnqC_mqNvxq`@\"\n",
    "df = decode_polyline_to_dataframe(polyline_str)\n",
    "print(df)\n",
    "\n"
   ]
  },
  {
   "cell_type": "code",
   "execution_count": 10,
   "id": "a466d2ec",
   "metadata": {},
   "outputs": [
    {
     "name": "stdout",
     "output_type": "stream",
     "text": [
      "[22, 19, 16]\n",
      "[23, 20, 17]\n",
      "[24, 21, 18]\n"
     ]
    }
   ],
   "source": [
    "def rotate_matrix_90_clockwise(matrix):\n",
    "    \n",
    "    n = len(matrix)\n",
    "    rotated_matrix = [[matrix[n - j - 1][i] for j in range(n)] for i in range(n)]\n",
    "    return rotated_matrix\n",
    "\n",
    "def transform_matrix(matrix):\n",
    " \n",
    "    rotated_matrix = rotate_matrix_90_clockwise(matrix)\n",
    "    \n",
    "   \n",
    "    n = len(rotated_matrix)\n",
    "    final_matrix = [[0] * n for _ in range(n)]\n",
    "    \n",
    "    for i in range(n):\n",
    "        for j in range(n):\n",
    "            \n",
    "            row_sum = sum(rotated_matrix[i]) - rotated_matrix[i][j]\n",
    "            \n",
    "            col_sum = sum(rotated_matrix[k][j] for k in range(n)) - rotated_matrix[i][j]\n",
    "            \n",
    "            final_matrix[i][j] = row_sum + col_sum\n",
    "    \n",
    "    return final_matrix\n",
    "\n",
    "\n",
    "matrix = [[1, 2, 3],\n",
    "          [4, 5, 6],\n",
    "          [7, 8, 9]]\n",
    "\n",
    "result = transform_matrix(matrix)\n",
    "for row in result:\n",
    "    print(row)\n",
    "\n"
   ]
  },
  {
   "cell_type": "code",
   "execution_count": 17,
   "id": "c8eb7302",
   "metadata": {},
   "outputs": [
    {
     "name": "stdout",
     "output_type": "stream",
     "text": [
      "1014000  -1          False\n",
      "1014002  -1          False\n",
      "1014003  -1          False\n",
      "1030000  -1          False\n",
      "          1030002    False\n",
      "                     ...  \n",
      "1330016   1330006    False\n",
      "          1330008    False\n",
      "          1330010    False\n",
      "          1330012    False\n",
      "          1330014    False\n",
      "Length: 9254, dtype: bool\n"
     ]
    }
   ],
   "source": [
    "\n",
    "from datetime import datetime\n",
    "import numpy as np\n",
    "\n",
    "def check_timestamps(df):\n",
    "   \n",
    "    day_map = {\n",
    "        'Monday': 0, 'Tuesday': 1, 'Wednesday': 2, 'Thursday': 3, \n",
    "        'Friday': 4, 'Saturday': 5, 'Sunday': 6\n",
    "    }\n",
    "\n",
    "    \n",
    "    df = df[df['startDay'].isin(day_map.keys()) & df['endDay'].isin(day_map.keys())]\n",
    "    \n",
    "    \n",
    "    df['startDayNum'] = df['startDay'].map(day_map)\n",
    "    df['endDayNum'] = df['endDay'].map(day_map)\n",
    "    \n",
    "    \n",
    "    df['start'] = pd.to_datetime('2023-01-01 ' + df['startTime'], errors='coerce')\n",
    "    df['end'] = pd.to_datetime('2023-01-01 ' + df['endTime'], errors='coerce')\n",
    "    \n",
    "    \n",
    "    grouped = df.groupby(['id', 'id_2'])\n",
    "    \n",
    "\n",
    "    results = pd.Series(index=pd.MultiIndex.from_tuples(grouped.groups.keys()), dtype=bool)\n",
    "\n",
    "    \n",
    "    for (id_val, id_2_val), group in grouped:\n",
    "       \n",
    "        unique_days = pd.concat([group['startDayNum'], group['endDayNum']]).unique()\n",
    "        all_days = set(range(7))  \n",
    "        \n",
    "        \n",
    "        covers_full_days = set(unique_days) == all_days\n",
    "        \n",
    "        \n",
    "        covers_full_hours = all(\n",
    "            group[(group['startDayNum'] == day) | (group['endDayNum'] == day)]['start'].min().hour == 0 and\n",
    "            group[(group['startDayNum'] == day) | (group['endDayNum'] == day)]['end'].max().hour == 23\n",
    "            for day in unique_days\n",
    "        )\n",
    "        \n",
    "        \n",
    "        results[(id_val, id_2_val)] = covers_full_days and covers_full_hours\n",
    "\n",
    "    return results\n",
    "\n",
    "\n",
    "result = check_timestamps(df)\n",
    "print(result)\n"
   ]
  },
  {
   "cell_type": "code",
   "execution_count": null,
   "id": "a8e5d09b",
   "metadata": {},
   "outputs": [],
   "source": []
  }
 ],
 "metadata": {
  "kernelspec": {
   "display_name": "Python 3 (ipykernel)",
   "language": "python",
   "name": "python3"
  },
  "language_info": {
   "codemirror_mode": {
    "name": "ipython",
    "version": 3
   },
   "file_extension": ".py",
   "mimetype": "text/x-python",
   "name": "python",
   "nbconvert_exporter": "python",
   "pygments_lexer": "ipython3",
   "version": "3.11.3"
  }
 },
 "nbformat": 4,
 "nbformat_minor": 5
}
